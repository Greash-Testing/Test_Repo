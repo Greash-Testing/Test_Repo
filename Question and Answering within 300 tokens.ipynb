{
 "cells": [
  {
   "cell_type": "markdown",
   "id": "6ce171e1",
   "metadata": {},
   "source": [
    "# Importing the libraries"
   ]
  },
  {
   "cell_type": "code",
   "execution_count": 1,
   "id": "24281d66",
   "metadata": {},
   "outputs": [],
   "source": [
    "import os\n",
    "import openai\n",
    "import fitz\n",
    "import re\n",
    "from time import time,sleep\n",
    "import math\n",
    "import ast\n",
    "import numpy as np\n",
    "import pandas as pd\n",
    "import tiktoken\n",
    "import nltk\n",
    "from openai.embeddings_utils import get_embedding, cosine_similarity"
   ]
  },
  {
   "cell_type": "markdown",
   "id": "f125410f",
   "metadata": {},
   "source": [
    "# OpenAI Key"
   ]
  },
  {
   "cell_type": "code",
   "execution_count": 2,
   "id": "090a06aa",
   "metadata": {},
   "outputs": [],
   "source": [
    "openai.api_key_path = \"New API Key.txt\""
   ]
  },
  {
   "cell_type": "markdown",
   "id": "a5cced82",
   "metadata": {},
   "source": [
    "# Reading the document"
   ]
  },
  {
   "cell_type": "code",
   "execution_count": 3,
   "id": "bc16d64b",
   "metadata": {},
   "outputs": [],
   "source": [
    "# Reading the document\n",
    "document = fitz.open('C:\\\\Users\\\\greashk.USEREADYTECH\\\\Downloads\\\\OpenAI\\\\Question and Answer using OpenAI\\\\USEReady Employee Handbook.pdf') "
   ]
  },
  {
   "cell_type": "markdown",
   "id": "1e7adba1",
   "metadata": {},
   "source": [
    "# Summarization"
   ]
  },
  {
   "cell_type": "code",
   "execution_count": 4,
   "id": "99f087d4",
   "metadata": {},
   "outputs": [],
   "source": [
    "# Summarizing the entire corpus\n",
    "\n",
    "summary_list = []\n",
    "for page in document:\n",
    "    text = page.get_text(\"text\")\n",
    "    prompt = text + \"\\n Tl;dr:\"\n",
    "    response = openai.Completion.create(\n",
    "    model = \"text-davinci-003\",\n",
    "    prompt = prompt,\n",
    "    temperature = 0.7,\n",
    "    max_tokens = 120,\n",
    "    top_p = 0.9,\n",
    "    frequency_penalty = 0.0,\n",
    "    presence_penalty = 1\n",
    "  )\n",
    "    summary_list.append(response[\"choices\"][0][\"text\"].strip())"
   ]
  },
  {
   "cell_type": "code",
   "execution_count": 5,
   "id": "cfcb4c6b",
   "metadata": {},
   "outputs": [
    {
     "name": "stdout",
     "output_type": "stream",
     "text": [
      "The UserReady Employee Handbook contains important information on the company's policies, procedures, and benefits. It provides details on employee rights and responsibilities, workplace safety, compensation and benefits, and other topics that employees should be familiar with. The handbook is designed to help employees understand their roles and obligations within the company. The USEReady Employee Handbook is an important document that outlines the policies and procedures for employees of the company. It covers topics such as employment, immigration law compliance, equal opportunity employment, employee grievances, internal communication, anti-retaliation and whistleblower policies, employment classifications, personnel data changes, expense reimbursement, and termination of employment. It also outlines the company's hours and working conditions. The USEReady Employee Handbook outlines emergency closing procedures, parking rules, safety and security policies, facility access guidelines, meal and break periods, health insurance, holidays, leave and leave policies, employee compensation, standards of conduct, disciplinary action, confidentiality, personal appearance, workplace violence, drug and alcohol abuse, sexual and other unlawful harassment, and complaint procedures. The USEReady Employee Handbook outlines the company's policies on internal complaints, retaliation, telephone usage, personal property, use of company property, care of company property, visitors in the workplace, computer and internet usage, company supplies, timekeeping and payroll, attendance and punctuality, and payroll deductions. This handbook is an introduction to USEReady and its policies. It contains a disclaimer that this handbook does not create an employment contract, and a welcome message for new employees. Welcome to USEReady! We are committed to helping you succeed, and the key to your success is being dependable, reliable, attentive, following policies and procedures, etc. Change is inevitable and any employees with questions should consult their manager or HR team. Employees may resign or be terminated at any time, subject to their appointment letter/employment agreement. USEReady is committed to employing only Indian citizens, and foreign nationals who are authorized to work in India. Employment opportunities at USEReady are provided without regard to race, religion, sex, etc. USEReady encourages its employees to express any grievances they have and prohibits retaliation against anyone who reports discrimination or harassment. USEReady encourages employees to raise concerns with their managers. If unresolved, they can submit a written grievance to HR. All conversations related to the grievance will be limited to those involved with resolving the issue. USEReady also has internal communication systems such as bulletin boards and email. In addition, the company has an anti-retaliation and whistleblower policy to protect employees. USEReady has a zero-tolerance policy for retaliation against employees who make good faith complaints regarding violations of the law, internal accounting controls, or safety issues. Employees can contact their manager or HR Team to report any violations and USEReady will promptly and thoroughly investigate and address any reported violation. Questions or concerns about this policy should be directed to their manager, HR Team, or any state or local agency responsible for investigating alleged violations. USEReady has three employment categories: full-time, temporary, and part-time. All employees are entitled to overtime pay in accordance with central and state overtime provisions. It is the responsibility of each employee to notify the HR Team and update their employee profile in the HR portal of any changes in personnel data. Changes that should be updated include legal name, mailing address, telephone number, marital status, and other pertinent information. USEReady will reimburse employees for necessary expenses incurred while doing their job as long as it is approved in advance by the employee's direct manager. Itemized receipts must be submitted to the Accounting Department and expenses should be submitted 7 days prior to the release date. Non-billable expenses must be submitted within 30 days of occurrence. Employment termination can be voluntary or involuntary, and employees are required to provide written notice. All accrued benefits will be paid in accordance with applicable laws and company policy. Employees must return all materials belonging to USEReady upon termination. USEReady is open for business from Monday-Friday and employees work in multiple shifts. The standard workweek is 40 hours. In extreme cases, emergencies may require closing of the facility. USEReady provides parking for employees in the building parking lot, and they should request a parking pass from the Facility team. USEReady is committed to providing a safe work environment for all employees. Employees are expected to obey safety rules and report any unsafe conditions or accidents to their manager immediately. USEReady provides access cards to employees and schedules meal and break periods. Nursing mothers are provided reasonable break times to express breast milk during the workday. USEReady offers health insurance, holidays and leave policies for its \n",
      "employees. Eligible employees can elect to begin health insurance benefits after a \n",
      "60 day wait period. The holiday year runs from January 1st to December 31st, and \n",
      "annual leave entitlement must be used up by the end of the year unless otherwise \n",
      "approved by top management. Employees are eligible to take up to 21 days leave annually, plus 6 days for any sickness incurred. Leave is subject to the operational requirements of the business and must be agreed with your direct manager. Unused sick leave expires at the end of the year and medical documentation may be required if an employee has a sick leave absence in excess of three consecutive workdays. USEReady provides 3 days of paid bereavement leave for employees in the event of a death in their immediate family. Immediate family members include spouse, child, parent, in-laws, grandparent, grandchild, and sibling. Employees may be eligible for additional unpaid time off at the discretion of their manager. Maternity leave is provided for up to 26 weeks, with at least 8 weeks following the baby's birth. USEReady provides maternity pay for 26 weeks and paternity leave of 5 working days. Employees must submit a completed leave request to their manager at least one month before the requested leave. Injured employees on the job are eligible for compensation benefits as per applicable law. Employees must report all work-related injuries or illnesses to their manager immediately. Employees must adhere to USEReady's standards of conduct, and any violations may result in disciplinary action. Examples of unacceptable behavior include theft, falsifying records, possession of drugs, violence, gossip, disruption, negligence, insubordination, violation of safety/health rules, smoking, harassment, and excessive absenteeism. USEReady reserves the right to administer disciplinary action at its discretion and based upon the circumstances. Unacceptable behavior that can result in termination of employment includes workplace violence, harassment, theft, insubordination, vandalism, unauthorized use of company property or equipment, misrepresentation of USEReady, and divulging confidential information. USEReady takes the protection of confidential business information and trade secrets very seriously. Employees must not disclose any confidential or proprietary information to unauthorized individuals. Inadvertent disclosure of confidential information should be avoided, and if a request is made for such information, it should immediately be referred to the employee's manager. Unauthorized disclosure may result in disciplinary action. USEReady's personal appearance policy requires employees to wear appropriate clothing that is clean, neat, and professional. Employees should also maintain good hygiene standards such as combing hair, wearing minimal makeup, and keeping nails manicured. If management designates “casual days”, employees must still dress professionally. Inappropriate attire may result in being sent home to change clothes. USEReady has a strict policy against workplace violence, including physical violence, verbal abuse, and bringing weapons onto company property. All threats or acts of violence must be reported immediately to a manager or security personnel. USEReady will take prompt action, up to and including termination, against any employee found to have engaged in threatening behavior or acts of violence. USEReady may make exceptions to the policy based on an employee's religion, disability, or other characteristic protected under federal, state, or local law. Questions regarding appropriate workplace attire should be directed to a manager or the HR team USEReady is committed to a workplace free of substance abuse, sexual harassment, and other forms of unlawful harassment. All employees must comply with the Drug & Alcohol Abuse Policy or face disciplinary action, up to and including termination. Sexual harassment is any form of unwelcome behavior of a sexual nature that affects an individual's employment, performance, or creates an intimidating work environment. Examples include unwanted sexual advances, derogatory jokes and comments, physical interaction, offensive messages, and suggestive posters. Any reprisals for rejecting these advances are also considered harassment. USEReady strictly prohibits any verbal, physical, or visual conduct deemed inappropriate by the company. This includes harassment on the basis of any protected characteristic, which can amount to harassment even if it is not explicitly about an individual's color, race, nationality, ethnic or national origin, sex, pregnancy, sexual orientation, gender reassignment or trans sexuality, marital or civil partner status, age, disability or religion/belief. If an employee believes they have been subject to an act of sexual harassment, they should file a written complaint with their manager, Human Resources department, or the Internal Compl The Company will set up an Internal Complaints Committee to investigate and handle any complaints of sexual harassment. It will be made up of members chosen by the Company, and an investigator with past experience in sexual harassment investigations will be selected. The complaint process will remain confidential and must be completed within 60 days. Alternatively, employees may informally discuss the complaint with Human Resources who can help resolve the matter. USEReady has an Internal Complaints Committee, which is presided over by a senior woman officer and at least half of its members are women. It also has procedures in place to protect employees from discrimination or harassment, and prohibits the use of company phones for personal use. Any employee found in violation of this policy will face disciplinary action, up to and including termination of employment. Employees are not allowed to bring personal property into the workplace, and should only use company property for business necessity. Employees are responsible for any tools assigned to them and will be held accountable for any damage or theft of these tools. USEReady prohibits the use of its computer, email and internet systems for any activity which could be considered discriminatory, harassing or offensive. Employees have no expectation of privacy in their use of these systems and usage may be monitored at any time. All visitors must sign in at the front desk and wear a visitor's badge while on USEReady premises. All company property should be kept neat and well-maintained and theft, misappropriation, or unauthorized removal, possession, or use of company property or equipment is prohibited. USEReady prohibits the illegal duplication of software and its related documentation. Employees are not allowed to use computers or the email system for bullying, harassing, discriminating, or other unlawful misconduct. Unauthorized use, installation, copying, or distribution of copyrighted, trademarked, or patented material on the Internet is also prohibited. Abuse of this policy may result in disciplinary action, up to and including termination of employment. USEReady expects regular attendance and punctuality from all employees. All time off must be requested in writing, in advance, and documented in the HR portal. If an employee is unable to report for work for any reason, they must notify their manager as early as possible. Employees are prohibited from sending or posting messages that defame or slander other individuals, attempting to break into the computer system of another organization or person, refusing to cooperate with a security investigation, using the internet for gambling or any illegal activities, and sending or posting messages that disparage another organization's products or services. Only authorized Employees must notify their managers if they will be absent, and must call in after three consecutive days of absence. USEReady reserves the right to ask for a physician's statement in the event of a long-term illness. Employees are also responsible for accurately recording time worked, and any tampering with time records may result in disciplinary action up to and including termination of employment. USEReady pays its employees on a monthly basis. In the event that a regularly scheduled payday falls on a holiday, employees will be paid on the day preceding the holiday. Salary will be deposited directly into an employee's bank account and they will receive an itemized statement of salary when the Company makes direct deposits. USEReady makes deductions from employee pay only in circumstances permitted by applicable law and if an improper deduction has been made, the HR Team will investigate and reimburse promptly. USEReady is a provider of advanced business intelligence, data management, and network security solutions that helps businesses succeed by fast-tracking their performance.\n"
     ]
    }
   ],
   "source": [
    "summary_text = ' '.join(summary_list)\n",
    "print(summary_text)"
   ]
  },
  {
   "cell_type": "markdown",
   "id": "4180b31b",
   "metadata": {},
   "source": [
    "# Pre-processing the data"
   ]
  },
  {
   "cell_type": "code",
   "execution_count": 6,
   "id": "de42f008",
   "metadata": {},
   "outputs": [],
   "source": [
    "def pre_process(path):\n",
    "    \n",
    "    doc = fitz.open(path)\n",
    "    lis = []\n",
    "    for i in doc:\n",
    "        lis.append(i.get_text(\"text\"))\n",
    "\n",
    "    corpus = \"\".join(lis)\n",
    "    corpus = corpus.replace(\"\\n\", \"\")\n",
    "    corpus = corpus.replace(\"\\xa0\\xa0in\\xa0\\xa0\", \" \")\n",
    "    corpus = corpus.replace(\"\\xa0\\xa0\\xa09\", \"\")\n",
    "    corpus = corpus.replace(\"\\xa0\\xa0\\xa0SEE PROFILE\", \", \")\n",
    "    corpus = corpus.replace('..', '') \n",
    "    corpus = corpus.replace('USEREADY EMPLOYEE HANDBOOK', '')\n",
    "    corpus = re.sub(' +', ' ', corpus)\n",
    "    corpus = re.sub(\" ©2018 USEReady, All Rights reserved. .{2}\", \"\", corpus)\n",
    "    corpus = re.sub(\" ©2018 USEReady, All Rights reserved. .{1}\", \"\", corpus)\n",
    "    \n",
    "    corpus = nltk.sent_tokenize(corpus)\n",
    "    tokenizer = tiktoken.get_encoding(\"cl100k_base\")\n",
    "    \n",
    "    small_paragraphs = []\n",
    "    current_paragraph = \"\"\n",
    "\n",
    "    for sentence in corpus:\n",
    "        # check if adding the current sentence to the paragraph would exceed the maximum length\n",
    "        if len(tokenizer.encode(current_paragraph)) + len(tokenizer.encode(sentence)) > 300:\n",
    "            # add the current paragraph to the list and start a new paragraph with the last two sentences of the previous paragraph\n",
    "            small_paragraphs.append(current_paragraph.strip())\n",
    "            current_paragraph = sentence + \" \"\n",
    "        else:\n",
    "            # add the current sentence to the current paragraph\n",
    "            current_paragraph += sentence + \" \"\n",
    "\n",
    "    # add the last paragraph to the list\n",
    "    if len(tokenizer.encode(current_paragraph)) > 0:\n",
    "        small_paragraphs.append(current_paragraph.strip())\n",
    "    \n",
    "    return small_paragraphs"
   ]
  },
  {
   "cell_type": "markdown",
   "id": "972ac487",
   "metadata": {},
   "source": [
    "# Converting the data to a Dataframe"
   ]
  },
  {
   "cell_type": "code",
   "execution_count": 7,
   "id": "40d84c78",
   "metadata": {},
   "outputs": [],
   "source": [
    "embeddings_cache = {}"
   ]
  },
  {
   "cell_type": "code",
   "execution_count": 8,
   "id": "0cb797c0",
   "metadata": {},
   "outputs": [],
   "source": [
    "def dataframe(path):\n",
    "    tokenizer = tiktoken.get_encoding(\"cl100k_base\")\n",
    "    \n",
    "    # Extract the file name from the file path\n",
    "    file_name = path.split('\\\\')[-1]\n",
    "\n",
    "    # Check if embeddings for this file name have already been generated\n",
    "    if file_name in embeddings_cache:\n",
    "        #print('Same')\n",
    "        return embeddings_cache[file_name]\n",
    "\n",
    "    # Generate embeddings for the new file\n",
    "    df = pd.DataFrame(pre_process(path), columns = ['Context'])\n",
    "    df['n_tokens'] = df.Context.apply(lambda x: len(tokenizer.encode(x)))\n",
    "    df['embeddings'] = df.Context.apply(lambda x: openai.Embedding.create(input = x, engine = 'text-embedding-ada-002')['data'][0]['embedding'])\n",
    "    \n",
    "    #df.to_csv('Final QA embeddings.csv', index = False)\n",
    "    \n",
    "    # Convert embeddings column from string to list of floats\n",
    "    #df2 = pd.read_csv('Final QA embeddings.csv')\n",
    "    #df2['embeddings'] = df2['embeddings'].apply(ast.literal_eval)\n",
    "\n",
    "    # Cache the embeddings for future use\n",
    "    embeddings_cache[file_name] = df\n",
    "    return df"
   ]
  },
  {
   "cell_type": "markdown",
   "id": "5a8d9873",
   "metadata": {},
   "source": [
    "# Text Completion Function"
   ]
  },
  {
   "cell_type": "code",
   "execution_count": 9,
   "id": "15c9ee1b",
   "metadata": {},
   "outputs": [],
   "source": [
    "# Creating a function that completes the text for our answer\n",
    "\n",
    "def gpt3_completion(prompt, engine = 'text-davinci-003', temp = 0.5, top_p = 1.0, tokens = 200, freq_pen = 0.25, pres_pen = 0.0, stop = None):\n",
    "    max_retry = 5\n",
    "    retry = 0\n",
    "    prompt = prompt.encode(encoding = 'ASCII',errors = 'ignore').decode()\n",
    "    while True:\n",
    "        try:\n",
    "            response = openai.Completion.create(\n",
    "                engine = engine,\n",
    "                prompt = prompt,\n",
    "                temperature = temp,\n",
    "                max_tokens = tokens,\n",
    "                top_p = top_p,\n",
    "                frequency_penalty = freq_pen,\n",
    "                presence_penalty = pres_pen,\n",
    "                stop = stop)\n",
    "            text = response['choices'][0]['text'].strip()\n",
    "            text = re.sub('\\s+', ' ', text)\n",
    "            return text\n",
    "        except Exception as oops:\n",
    "            retry += 1\n",
    "            if retry >= max_retry:\n",
    "                return \"GPT3 error: %s\" % oops\n",
    "            print('Error communicating with OpenAI:', oops)\n",
    "            sleep(1)"
   ]
  },
  {
   "cell_type": "markdown",
   "id": "9fbcbf91",
   "metadata": {},
   "source": [
    "# Similarity Matching Function between Context and Input"
   ]
  },
  {
   "cell_type": "code",
   "execution_count": 10,
   "id": "c52faab4",
   "metadata": {},
   "outputs": [],
   "source": [
    "# Creating a function that matches the input query with the given context\n",
    "\n",
    "def search_products(df2, search_query, n = 5):\n",
    "    embedding = get_embedding(\n",
    "        search_query,\n",
    "        engine = \"text-embedding-ada-002\"\n",
    "    )\n",
    "    df2[\"similarities\"] = df2['embeddings'].apply(lambda x: cosine_similarity(x, embedding))\n",
    "    top_n = df2.sort_values(\"similarities\", ascending=False).head(n)\n",
    "    \n",
    "    return top_n.reset_index(drop = True)"
   ]
  },
  {
   "cell_type": "markdown",
   "id": "3f8fc58c",
   "metadata": {},
   "source": [
    "# Question / Answer Function"
   ]
  },
  {
   "cell_type": "code",
   "execution_count": 11,
   "id": "20213849",
   "metadata": {},
   "outputs": [],
   "source": [
    "# Creating a function that answers the question\n",
    "\n",
    "def answer_question(search_query, path):\n",
    "    search_query = search_query\n",
    "    path = path\n",
    "    new = search_products(dataframe(path), search_query, n = 5)\n",
    "    content = new['Context'][0] + new['Context'][1]\n",
    "    prompt = f\"\"\"Answer the question based on the context below. If the question cannot be answered using the information provided answer with \"I don't know\".\\n\\nContext: {content}\\n\\nQuestion: {search_query}\\n\\nAnswer: \"\"\"\n",
    "    return gpt3_completion(prompt)   "
   ]
  },
  {
   "cell_type": "code",
   "execution_count": 12,
   "id": "e87f83dc",
   "metadata": {},
   "outputs": [
    {
     "data": {
      "text/plain": [
       "'No, personal property should be used with discretion and USEReady assumes no risk for any loss or damage to personal property.'"
      ]
     },
     "execution_count": 12,
     "metadata": {},
     "output_type": "execute_result"
    }
   ],
   "source": [
    "answer_question(search_query = \"Can i bring my personal laptop to office?\", path = r\"C:\\Users\\greashk.USEREADYTECH\\Downloads\\OpenAI\\Question and Answer using OpenAI\\USEReady Employee Handbook.pdf\")"
   ]
  },
  {
   "cell_type": "code",
   "execution_count": 13,
   "id": "e2abde24",
   "metadata": {},
   "outputs": [
    {
     "data": {
      "text/plain": [
       "'Screenshot 4 tells us about the Keywords Database used to increase the effectiveness of the text messaging campaigns.'"
      ]
     },
     "execution_count": 13,
     "metadata": {},
     "output_type": "execute_result"
    }
   ],
   "source": [
    "answer_question(search_query = 'What does screenshot 4 tells us?', path = r\"C:\\Users\\greashk.USEREADYTECH\\Downloads\\OpenAI\\Test.pdf\")"
   ]
  },
  {
   "cell_type": "code",
   "execution_count": 14,
   "id": "41a1d7a5",
   "metadata": {},
   "outputs": [
    {
     "data": {
      "text/plain": [
       "'6 days'"
      ]
     },
     "execution_count": 14,
     "metadata": {},
     "output_type": "execute_result"
    }
   ],
   "source": [
    "answer_question(search_query = \"How many sick leaves are there per yea?\", path = r\"C:\\Users\\greashk.USEREADYTECH\\Downloads\\OpenAI\\Question and Answer using OpenAI\\USEReady Employee Handbook.pdf\")"
   ]
  },
  {
   "cell_type": "code",
   "execution_count": 15,
   "id": "f7cd5a41",
   "metadata": {},
   "outputs": [
    {
     "data": {
      "text/plain": [
       "'It depends on the purpose of the food. If it was for carrying out company business, then you may be eligible for reimbursement.'"
      ]
     },
     "execution_count": 15,
     "metadata": {},
     "output_type": "execute_result"
    }
   ],
   "source": [
    "answer_question(search_query = \"Can i reimburse the amount invested on food?\", path = r\"C:\\Users\\greashk.USEREADYTECH\\Downloads\\OpenAI\\Question and Answer using OpenAI\\USEReady Employee Handbook.pdf\")"
   ]
  },
  {
   "cell_type": "code",
   "execution_count": 16,
   "id": "6ed38f3e",
   "metadata": {},
   "outputs": [
    {
     "data": {
      "text/plain": [
       "'Generally, employees should wear appropriate clothing, observe high standards of personal hygiene, and dress and groom themselves according to the requirements of their positions. Examples of appropriate workplace attire include slacks, blouses, button-down shirts, khaki pants, and polo shirts.'"
      ]
     },
     "execution_count": 16,
     "metadata": {},
     "output_type": "execute_result"
    }
   ],
   "source": [
    "answer_question(search_query = \"How should i be dressed in office?\", path = r\"C:\\Users\\greashk.USEREADYTECH\\Downloads\\OpenAI\\Question and Answer using OpenAI\\USEReady Employee Handbook.pdf\")"
   ]
  },
  {
   "cell_type": "code",
   "execution_count": 17,
   "id": "acb28340",
   "metadata": {},
   "outputs": [
    {
     "data": {
      "text/plain": [
       "'Yes, employees should notify their manager each day of their absence.'"
      ]
     },
     "execution_count": 17,
     "metadata": {},
     "output_type": "execute_result"
    }
   ],
   "source": [
    "answer_question(search_query = \"Should I mark attendance daily?\", path = r\"C:\\Users\\greashk.USEREADYTECH\\Downloads\\OpenAI\\Question and Answer using OpenAI\\USEReady Employee Handbook.pdf\")"
   ]
  },
  {
   "cell_type": "code",
   "execution_count": 18,
   "id": "5726fcb4",
   "metadata": {},
   "outputs": [
    {
     "data": {
      "text/plain": [
       "'You should raise the matter informally with Human Resources. Following initial discussions with Human Resources, you will be asked to choose one of the following options: 1. Decide that no further action is necessary; 2. Discuss the complaint with the alleged harasser; 3. Ask human resources to help resolve the matter through informal and discreet approaches to the individual; or 4. Make a formal complaint using the procedure as detailed above.'"
      ]
     },
     "execution_count": 18,
     "metadata": {},
     "output_type": "execute_result"
    }
   ],
   "source": [
    "answer_question(search_query = \"What should I do if i was harrassed by my colleague?\", path = r\"C:\\Users\\greashk.USEREADYTECH\\Downloads\\OpenAI\\Question and Answer using OpenAI\\USEReady Employee Handbook.pdf\")"
   ]
  },
  {
   "cell_type": "code",
   "execution_count": 19,
   "id": "71de3bcb",
   "metadata": {},
   "outputs": [
    {
     "data": {
      "text/plain": [
       "'They may charge you for the laptop to the extent permitted by Central, state, and local law.'"
      ]
     },
     "execution_count": 19,
     "metadata": {},
     "output_type": "execute_result"
    }
   ],
   "source": [
    "answer_question(search_query = \"What will they do if I lost my company laptop?\", path = r\"C:\\Users\\greashk.USEREADYTECH\\Downloads\\OpenAI\\Question and Answer using OpenAI\\USEReady Employee Handbook.pdf\")"
   ]
  },
  {
   "cell_type": "code",
   "execution_count": 20,
   "id": "d53d5c45",
   "metadata": {},
   "outputs": [
    {
     "data": {
      "text/plain": [
       "'No, using cell phones during office hours is not allowed.'"
      ]
     },
     "execution_count": 20,
     "metadata": {},
     "output_type": "execute_result"
    }
   ],
   "source": [
    "answer_question(search_query = \"Can I use my cell phone during office hours?\", path = r\"C:\\Users\\greashk.USEREADYTECH\\Downloads\\OpenAI\\Question and Answer using OpenAI\\USEReady Employee Handbook.pdf\")"
   ]
  },
  {
   "cell_type": "code",
   "execution_count": 21,
   "id": "f17aef15",
   "metadata": {},
   "outputs": [],
   "source": [
    "#answer_question(search_query = \"how many planets are there in our solar system?\")"
   ]
  },
  {
   "cell_type": "code",
   "execution_count": 22,
   "id": "1b2a7dd5",
   "metadata": {},
   "outputs": [],
   "source": [
    "#answer_question(search_query = \"what type of car is jeep compass?\")"
   ]
  },
  {
   "cell_type": "code",
   "execution_count": 23,
   "id": "87b3b58c",
   "metadata": {},
   "outputs": [],
   "source": [
    "#answer_question(search_query = \"who is the ceo of google?\")"
   ]
  },
  {
   "cell_type": "code",
   "execution_count": null,
   "id": "fc7bd64f",
   "metadata": {},
   "outputs": [],
   "source": [
    "df = pd.read_csv('Q-A embeddings.csv')\n",
    "df['embeddings'] = df['embeddings'].apply(ast.literal_eval)\n",
    "\n",
    "def extract_text_from_pdfs(pdf_files):\n",
    "    df = pd.DataFrame(columns=[\"file\", \"text\"])\n",
    "    for pdf_file in pdf_files:\n",
    "        # Open the PDF file\n",
    "        with BytesIO(pdf_file.read()) as f:\n",
    "            pdf_reader = PyPDF2.PdfReader(f)\n",
    "            num_pages = len(pdf_reader.pages)\n",
    "            text = \"\"\n",
    "            # Iterate over all the pages\n",
    "            for page_num in range(num_pages):\n",
    "                page = pdf_reader.pages[page_num]\n",
    "                page_text = page.extract_text()\n",
    "                text += page_text\n",
    "            # Add the file name and the text to the data frame\n",
    "            df = df.append({\"file\": pdf_file.name, \"text\": text}, ignore_index=True)\n",
    "    return df\n",
    "\n",
    "def preprocess_text(text_list):\n",
    "    processed_text = []\n",
    "    for text in text_list:\n",
    "        num_words = len(text.split(\" \"))\n",
    "        if num_words > 10:\n",
    "            processed_text.append(text)\n",
    "    return processed_text\n",
    "\n",
    "def remove_short_sentences(df):\n",
    "    df[\"sentences\"] = df[\"sentences\"].apply(preprocess_text)\n",
    "    return df"
   ]
  }
 ],
 "metadata": {
  "kernelspec": {
   "display_name": "Python 3 (ipykernel)",
   "language": "python",
   "name": "python3"
  },
  "language_info": {
   "codemirror_mode": {
    "name": "ipython",
    "version": 3
   },
   "file_extension": ".py",
   "mimetype": "text/x-python",
   "name": "python",
   "nbconvert_exporter": "python",
   "pygments_lexer": "ipython3",
   "version": "3.10.9"
  }
 },
 "nbformat": 4,
 "nbformat_minor": 5
}
